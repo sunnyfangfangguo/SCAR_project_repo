{
 "cells": [
  {
   "cell_type": "markdown",
   "metadata": {},
   "source": [
    "# SCAR\n",
    "Recombination-aware phylogeographic inference using the structured coalescent with ancestral recombination."
   ]
  },
  {
   "cell_type": "markdown",
   "metadata": {},
   "source": [
    "SCAR Tutorial"
   ]
  },
  {
   "cell_type": "markdown",
   "metadata": {},
   "source": [
    "by Fangfang Guo, David Rasmussen"
   ]
  },
  {
   "cell_type": "markdown",
   "metadata": {},
   "source": [
    "This tutorial demonstrates the basics of setting up and running a model in SCAR. Here we will estimate migration rate and recombination rate of a simulated ARG (Ancestral Recombination Graph) in tree sequence format. The samples are supposed to sampling from 2 subpopulations. The full script can be found in the test_rho_mig_estimates.py under the route ./Simulations/EstimatesPrameters/Jointly_Est_M_rho. Other examples to estimate one single parameter can also be found in the folder EstimatesPrameters.     "
   ]
  },
  {
   "cell_type": "markdown",
   "metadata": {},
   "source": [
    "Setting up SCAR"
   ]
  },
  {
   "cell_type": "markdown",
   "metadata": {},
   "source": [
    "First we will import some standard Python packages in the codes SCARLikelihood and MCMC, which are the core codes of SCAR. In the code ARGSimulator, we use msprime to simulate ARGs. These packages can be installed via conda or pip if you do not already have them. "
   ]
  },
  {
   "cell_type": "code",
   "execution_count": null,
   "metadata": {},
   "outputs": [],
   "source": [
    "import numpy as np\n",
    "import matplotlib.pyplot as plt\n",
    "import seaborn as sns\n",
    "from scipy.linalg import expm\n",
    "import msprime"
   ]
  },
  {
   "cell_type": "markdown",
   "metadata": {},
   "source": [
    "After you have these packages and start to run the wrraper script test_rho_mig_estimates.py, it will import following packages:"
   ]
  },
  {
   "cell_type": "code",
   "execution_count": null,
   "metadata": {},
   "outputs": [],
   "source": [
    "import MCMC\n",
    "import ARGSimulator\n",
    "import numpy as np"
   ]
  },
  {
   "cell_type": "markdown",
   "metadata": {},
   "source": [
    "Setting up the model parameters"
   ]
  },
  {
   "cell_type": "markdown",
   "metadata": {},
   "source": [
    "Now we need to parameterize the model of structured coalescent with ancestral recombination. There are five required parameters that need to be initialized.\n",
    "1. Ne: effective population size.\n",
    "2. genome_length: length of study genome length.\n",
    "3. rho: the recombination rate of the genome length per generation\n",
    "4. sample_sizes: the sample size in each subpopulations.\n",
    "5. M: migration rate matrix."
   ]
  },
  {
   "cell_type": "markdown",
   "metadata": {},
   "source": [
    "Then we will set the parameters in the simulation. Here we conduct 100 simulations, with 200 samples and 2 subpopulation with symmetric migration rate."
   ]
  },
  {
   "cell_type": "code",
   "execution_count": null,
   "metadata": {},
   "outputs": [],
   "source": [
    "sims = 100 # simulations\n",
    "Ne = 1.0  # effective pop sizes\n",
    "genome_length = 1e4\n",
    "M = [[0.0,mig_rate], [mig_rate,0.0]]  # migration rate matrix\n",
    "samples = 100\n",
    "sample_sizes = [samples]*2 # should be 1xpops vector\n",
    "sim_rho_vals = np.linspace(0.1,10.0,num=sims)\n",
    "sim_mig_vals = np.linspace(0.1,2.0,num=sims)"
   ]
  },
  {
   "cell_type": "markdown",
   "metadata": {},
   "source": [
    "And in the simulation s, we set the true value of migration rate and recombination rate as"
   ]
  },
  {
   "cell_type": "code",
   "execution_count": null,
   "metadata": {},
   "outputs": [],
   "source": [
    "mig_rate = sim_mig_vals[s] # the symmetric migration rate between 2 subpopulations\n",
    "rho = sim_rho_vals[s] # the recombination rate on the genome_length region"
   ]
  },
  {
   "cell_type": "markdown",
   "metadata": {},
   "source": [
    "These parameters are strored into a params dictionary,"
   ]
  },
  {
   "cell_type": "code",
   "execution_count": null,
   "metadata": {},
   "outputs": [],
   "source": [
    "params = {'Ne': Ne, 'rho': rho, 'M': M, 'genome_length': genome_length, 'sample_sizes':  sample_sizes}"
   ]
  },
  {
   "cell_type": "markdown",
   "metadata": {},
   "source": [
    "And what parameters you want to estimate also put into a dictionary, where 'True' is indicating the estimated parameter, while 'False' not. Here we will estimate 'rho' and 'M'. "
   ]
  },
  {
   "cell_type": "code",
   "execution_count": null,
   "metadata": {},
   "outputs": [],
   "source": [
    "est_params = {'Ne': False, 'rho': True, 'M': True}"
   ]
  },
  {
   "cell_type": "markdown",
   "metadata": {},
   "source": [
    "We also need set the rows and columns of the 'true_fit_vals' and 'est_fit_vals', which store the true value of the estimated parameters and estimated value of parameters, respectively. In the 'est_fit_vals', there are 2.5% confidential interval, median value, and 97.5% confidential interval for each parameter. So we set both arrays as   "
   ]
  },
  {
   "cell_type": "code",
   "execution_count": null,
   "metadata": {},
   "outputs": [],
   "source": [
    "true_fit_vals = np.zeros([sims,2])\n",
    "est_fit_vals = np.zeros([sims,6])"
   ]
  },
  {
   "cell_type": "markdown",
   "metadata": {},
   "source": [
    "Setting up time interval"
   ]
  },
  {
   "cell_type": "markdown",
   "metadata": {},
   "source": [
    "SCAR approximates the lineages states by tracking how the probability of a lineage residing in each state changes backwards through time and integrate over their unknown states by small time interval dt_step. We need to change this parameter based on the maximum root time, and the smaller the time interval the more accurate approimate. Here in the SCARLikelihood, we set the time interval as 0.01 and unknown the ancestral states.    "
   ]
  },
  {
   "cell_type": "code",
   "execution_count": null,
   "metadata": {},
   "outputs": [],
   "source": [
    "dt_step = 0.01\n",
    "known_ancestral_states = False"
   ]
  },
  {
   "cell_type": "markdown",
   "metadata": {},
   "source": [
    "Setting up the Bayesian MCMC parameters"
   ]
  },
  {
   "cell_type": "markdown",
   "metadata": {},
   "source": [
    "There are four parameters you may need to change:\n",
    "1. prior: the prior distribution on the demographic parameters.\n",
    "2. optimize iteration: optimize proposal covariance matrix based on the samples in this iteration.\n",
    "3. iterations: the total iteration you want to run.\n",
    "4. burn in: how many iterations you want to discard.\n",
    "Here we set a uniform prior for all the parameters, and iteration related parameters are setting as following: "
   ]
  },
  {
   "cell_type": "code",
   "execution_count": null,
   "metadata": {},
   "outputs": [],
   "source": [
    "prior = 1.0 # assume uniform prior\n",
    "opt_iters = [200,500,1000,2000,5000] # the optimize iterations\n",
    "estimates = MCMC.sample(params,est_params,ts,iterations=10000,opt_iters=opt_iters,burnin=1000,plot=True,**plot_info)"
   ]
  },
  {
   "cell_type": "markdown",
   "metadata": {},
   "source": [
    "Saving the estimates"
   ]
  },
  {
   "cell_type": "markdown",
   "metadata": {},
   "source": [
    "Finally, we will save the estimated recombination rate and migration rate by putting them into an array and then writing them to a csv file:"
   ]
  },
  {
   "cell_type": "code",
   "execution_count": null,
   "metadata": {},
   "outputs": [],
   "source": [
    "estimates = MCMC.sample(params,est_params,ts,iterations=10000,opt_iters=opt_iters,burnin=1000,plot=True,**plot_info)\n",
    "est_fit_vals[s,:] = estimates[:,0]\n",
    "np.savetxt('test_SCAR_mcmc_rho_mig_unknownStates_ests.csv', est_fit_vals, delimiter=',')"
   ]
  },
  {
   "cell_type": "markdown",
   "metadata": {},
   "source": [
    "SCAR is maintained by [davidrasm](https://github.com/davidrasm/) and [sunnyfangfangguo](https://github.com/sunnyfangfangguo/)."
   ]
  }
 ],
 "metadata": {
  "kernelspec": {
   "display_name": "Python 3",
   "language": "python",
   "name": "python3"
  },
  "language_info": {
   "codemirror_mode": {
    "name": "ipython",
    "version": 3
   },
   "file_extension": ".py",
   "mimetype": "text/x-python",
   "name": "python",
   "nbconvert_exporter": "python",
   "pygments_lexer": "ipython3",
   "version": "3.6.8"
  }
 },
 "nbformat": 4,
 "nbformat_minor": 2
}
